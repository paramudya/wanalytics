{
 "cells": [
  {
   "cell_type": "code",
   "execution_count": 1,
   "id": "569a39e0",
   "metadata": {},
   "outputs": [],
   "source": [
    "import pandas as pd\n",
    "from tqdm import tqdm"
   ]
  },
  {
   "cell_type": "code",
   "execution_count": 2,
   "id": "b721493b",
   "metadata": {},
   "outputs": [
    {
     "name": "stderr",
     "output_type": "stream",
     "text": [
      "C:\\Users\\BNI\\AppData\\Local\\Temp\\ipykernel_1048\\2914589366.py:2: ParserWarning: Falling back to the 'python' engine because the 'c' engine does not support regex separators (separators > 1 char and different from '\\s+' are interpreted as regex); you can avoid this warning by specifying engine='python'.\n",
      "  df=pd.read_csv('_chat_flo.txt',sep='@#@#',header=None) #chat\n"
     ]
    },
    {
     "data": {
      "text/plain": [
       "3799"
      ]
     },
     "execution_count": 2,
     "metadata": {},
     "output_type": "execute_result"
    }
   ],
   "source": [
    "# df=pd.read_csv('_chat.txt',sep='@#@#',header=None) #chat\n",
    "df=pd.read_csv('_chat_flo.txt',sep='@#@#',header=None) #chat\n",
    "\n",
    "len(df)"
   ]
  },
  {
   "cell_type": "code",
   "execution_count": 3,
   "id": "a0f8757f",
   "metadata": {},
   "outputs": [
    {
     "data": {
      "text/html": [
       "<div>\n",
       "<style scoped>\n",
       "    .dataframe tbody tr th:only-of-type {\n",
       "        vertical-align: middle;\n",
       "    }\n",
       "\n",
       "    .dataframe tbody tr th {\n",
       "        vertical-align: top;\n",
       "    }\n",
       "\n",
       "    .dataframe thead th {\n",
       "        text-align: right;\n",
       "    }\n",
       "</style>\n",
       "<table border=\"1\" class=\"dataframe\">\n",
       "  <thead>\n",
       "    <tr style=\"text-align: right;\">\n",
       "      <th></th>\n",
       "      <th>0</th>\n",
       "    </tr>\n",
       "  </thead>\n",
       "  <tbody>\n",
       "    <tr>\n",
       "      <th>0</th>\n",
       "      <td>[05/08/21 15.08.36] halodek nightingle: thanks...</td>\n",
       "    </tr>\n",
       "    <tr>\n",
       "      <th>1</th>\n",
       "      <td>[05/08/21 15.10.05] atwin: yoo</td>\n",
       "    </tr>\n",
       "    <tr>\n",
       "      <th>2</th>\n",
       "      <td>[01/09/21 18.04.04] atwin: iya flo dari homecr...</td>\n",
       "    </tr>\n",
       "    <tr>\n",
       "      <th>3</th>\n",
       "      <td>[01/09/21 18.10.19] halodek nightingle: Gils 😂</td>\n",
       "    </tr>\n",
       "    <tr>\n",
       "      <th>4</th>\n",
       "      <td>[12/09/21 17.06.43] atwin: flooo</td>\n",
       "    </tr>\n",
       "    <tr>\n",
       "      <th>...</th>\n",
       "      <td>...</td>\n",
       "    </tr>\n",
       "    <tr>\n",
       "      <th>3794</th>\n",
       "      <td>[27/03/23 15.30.57] halodek nightingle: Ini be...</td>\n",
       "    </tr>\n",
       "    <tr>\n",
       "      <th>3795</th>\n",
       "      <td>[28/03/23 06.51.22] atwin: bedaa</td>\n",
       "    </tr>\n",
       "    <tr>\n",
       "      <th>3796</th>\n",
       "      <td>[28/03/23 06.51.24] atwin: gym nga</td>\n",
       "    </tr>\n",
       "    <tr>\n",
       "      <th>3797</th>\n",
       "      <td>[28/03/23 07.59.45] halodek nightingle: Baru b...</td>\n",
       "    </tr>\n",
       "    <tr>\n",
       "      <th>3798</th>\n",
       "      <td>[28/03/23 19.55.25] halodek nightingle: win ch...</td>\n",
       "    </tr>\n",
       "  </tbody>\n",
       "</table>\n",
       "<p>3799 rows × 1 columns</p>\n",
       "</div>"
      ],
      "text/plain": [
       "                                                      0\n",
       "0     [05/08/21 15.08.36] halodek nightingle: thanks...\n",
       "1                        [05/08/21 15.10.05] atwin: yoo\n",
       "2     [01/09/21 18.04.04] atwin: iya flo dari homecr...\n",
       "3        [01/09/21 18.10.19] halodek nightingle: Gils 😂\n",
       "4                      [12/09/21 17.06.43] atwin: flooo\n",
       "...                                                 ...\n",
       "3794  [27/03/23 15.30.57] halodek nightingle: Ini be...\n",
       "3795                   [28/03/23 06.51.22] atwin: bedaa\n",
       "3796                 [28/03/23 06.51.24] atwin: gym nga\n",
       "3797  [28/03/23 07.59.45] halodek nightingle: Baru b...\n",
       "3798  [28/03/23 19.55.25] halodek nightingle: win ch...\n",
       "\n",
       "[3799 rows x 1 columns]"
      ]
     },
     "execution_count": 3,
     "metadata": {},
     "output_type": "execute_result"
    }
   ],
   "source": [
    "df"
   ]
  },
  {
   "cell_type": "markdown",
   "id": "87525fc6",
   "metadata": {},
   "source": [
    "multiple line merged to the initial line as one record\n",
    "(harder than i thought as >2 liners would be a problem, mandi duls ah)"
   ]
  },
  {
   "cell_type": "code",
   "execution_count": 4,
   "id": "5b55e818",
   "metadata": {
    "scrolled": true
   },
   "outputs": [
    {
     "name": "stdout",
     "output_type": "stream",
     "text": [
      "5 3793 Selamat untuk bp/ibu yg mutasi/promosi, semoga amanah dan sukses ..amin YRA..🙏🙏🙏\n",
      "6 3792 12. Meiliana/PM SME sebagai WPW 2 W02\n",
      "7 3791 11. Mesah Roni Ginting/DGM RTL sebagai GM RTL\n",
      "8 3790 10. Sri Indira/GM RTL sebagai GM CRP\n",
      "9 3789 9. Teddy Wishadi/GM CRP sebagai Direktur BNI Multifinance\n",
      "10 3788 8. Sandy Dwinanto/DGM HUK sebagai GM HUK\n",
      "11 3787 7. Johansyah/GM HUK sebagai GM RRC\n",
      "12 3786 6. Bani Iqbal/GM RRC sebagai WPW 2 W18\n",
      "13 3785 5. Yenni Sari Dewi/DGM HCS sebagai GM HCS\n",
      "14 3784 4. Dandy P. Sjamsudin/GM HCS sebagai GM BCV\n",
      "15 3783 3. Yogi Bima Sakti/GM SCS sebagai GM ENB\n",
      "16 3782 2. Rangga Bhirawa Wicaksana/GM ENB sebagai GM CMB\n",
      "17 3781 1. Martinus Matondang/GM CMB sebagai SCO CMB\n",
      "728 3070 Be there DMA’ers, because it’s time to celebrate!💃\n",
      "758 3040 ROWS 6 PRECEDING) AS 6MSum\n",
      "759 3039 ORDER BY year, week\n",
      "930 2868 - OVO & ShopeePay (gaada GOPAY) Ama: 082290806127\n",
      "931 2867 - BNI Ama: 0390380223\n",
      "932 2866 transfer boleh ke:\n",
      "1078 2720 Aamiin Aamiin YRA 🤲\n",
      "1079 2719 dan Margie beserta keluarga senantiasa diberikan kekuatan, tabah dan ikhlas.\n",
      "1080 2718 Teriring doa semoga mendapatkan tempat terbaik di sisi Nya,\n",
      "1081 2717 Turut berduka cita yang mendalam atas berpulangnya ananda Orlando, putra tercinta dari rekan kita mba Margie, pada pagi hari ini.\n",
      "1274 2524 GROUP BY 1\n",
      "1275 2523 FROM PRD_EDW_RPT_MR_TB.S_PMS_A_LOAN_CKPN_MONTHLY_V3\n",
      "1276 2522 , SUM(ckpn_bulanan) OVER(ORDER BY tanggal ROWS BETWEEN UNBOUNDED PRECEDING AND CURRENT ROW) AS ckpn_ytd\n",
      "1277 2521 , SUM(TOTAL_CKPN) AS ckpn_bulanan\n",
      "1286 2512 GROUP BY 1\n",
      "1287 2511 FROM PRD_EDW_RPT_MR_TB.S_PMS_A_LOAN_CKPN_MONTHLY_V3\n",
      "1288 2510 , SUM(TOTAL_CKPN) AS TOTAL_CKPN\n",
      "1535 2263 Trus ada liquidity mgmt, user mgmt, transaction history, dan maybe ada report buat supporting features\n",
      "1536 2262 Maen AE sama CT as fitur utamanya\n",
      "1542 2256 Baru nnti bank sponsornya transfer dana ke rekening BI-FASTnya si PTL\n",
      "1548 2250 2. Peserta Tidak Langsung\n",
      "1553 2245 2. SKNBI\n",
      "1554 2244 1. RTGS\n",
      "2469 1329 ORDER BY cif_key, id_number\n",
      "2470 1328 GROUP BY 1,2\n",
      "2471 1327 ) a\n",
      "2472 1326 ORDER BY cif_key, id_number, dpk.as_of_date\n",
      "2473 1325 GROUP BY dpk.cif_key, dpk.id_number, dpk.as_of_date\n",
      "2474 1324 AND dpk.gl_account_id IN (210001, 210011)\n",
      "2475 1323 WHERE TRIM(dpk.as_of_date) BETWEEN '20211001' AND '20211231'\n",
      "2476 1322 ON cast(dpk.cif_key as BIGINT) = cast(cus.cif_key as BIGINT)\n",
      "2477 1321 AND TRIM(cus.as_of_date) = '20211231') cus\n",
      "2478 1320 WHERE cus.cus_type IN (2,3,4)\n",
      "2479 1319 FROM prd_vr_datalake.vr_101_111_customer cus\n",
      "2480 1318 DISTINCT cus.cif_key\n",
      "2481 1317 (SELECT\n",
      "2482 1316 INNER JOIN\n",
      "2483 1315 FROM prd_vr_datalake.vr_102_109_mart_dpk dpk\n",
      "2484 1314 , CASE WHEN TRIM(dpk.as_of_date) BETWEEN '20211201' AND '20211231' THEN avg(cur_book_bal_idr) ELSE 0 END as avg_bal_des\n",
      "2485 1313 , CASE WHEN TRIM(dpk.as_of_date) BETWEEN '20211101' AND '20211130' THEN avg(cur_book_bal_idr) ELSE 0 END as avg_bal_nov\n",
      "2486 1312 , CASE WHEN TRIM(dpk.as_of_date) BETWEEN '20211001' AND '20211031' THEN avg(cur_book_bal_idr) ELSE 0 END as avg_bal_okt\n",
      "2487 1311 , dpk.as_of_date\n",
      "2488 1310 , dpk.id_number\n",
      "2489 1309 dpk.cif_key\n",
      "2490 1308 (SELECT\n",
      "2491 1307 FROM\n",
      "2492 1306 , sum(avg_bal_okt) avg_bal_okt\n",
      "2493 1305 , id_number\n",
      "2494 1304 cif_key\n",
      "2516 1282 df = pd.read_sql(q_ekspansi_col,conn)\n",
      "2517 1281 ;\"\"\"\n",
      "2518 1280 order by 3,4,5,1\n",
      "2519 1279 and (as_of_date > '20220000') and (as_of_date < '2022{('0'+str(datetime.now().month))[-2:]}00')\n",
      "2520 1278 id_number in (select * from id_kelolaan)\n",
      "2521 1277 where\n",
      "2522 1276 from prd_vr_datalake.vr_102_105_mart_loan\n",
      "2523 1275 -- count(*) -- kemaren 17 juta belom filter RM BCM palembang\n",
      "2524 1274 as_of_date, acct_open_date, rm_code, cif_key, id_number, branch_code, commitment_bal_idr, loan_principal_idr, worst_collectibility, collectibility-- AS KOL_REKENING\n",
      "2525 1273 select\n",
      "2526 1272 )\n",
      "2527 1271 WHERE region = '3')\n",
      "2528 1270 FROM prd_vr_datalake.vr_134_130_branch\n",
      "2529 1269 CAST(branch_code AS INT)\n",
      "2530 1268 (SELECT\n",
      "2531 1267 and branch_code in\n",
      "2532 1266 ) -- tujuannya buat masukin baris2 di mana id_numbernya sama tapi rm_codenya beda, buat memunkingkan komponen ekspansi tambahan saat perpindahan rm\n",
      "2533 1265 {str(lst_rm_str)[1:-1]}\n",
      "2534 1264 (\n",
      "2535 1263 where trim(rm_code) in\n",
      "2536 1262 from prd_vr_datalake.vr_102_105_mart_loan\n",
      "2537 1261 (select id_number\n",
      "2539 1259 use_ssl=False, kerberos_service_name='impala')\n",
      "2540 1258 port=21051, auth_mechanism='GSSAPI',\n",
      "2541 1257 conn = connect(host='bdprdedge01.bni.co.id',\n",
      "2542 1256 from impala.util import as_pandas\n",
      "3050 748 BCA\n",
      "3051 747 NO REG = 5260750722\n",
      "3052 746 Nama = ALFU LIMANTARA\n",
      "3308 490 Tancyuuu\n",
      "3309 489 Berhubung hari minggu kita ktemu, monggo kalo mentemen mau tes juga.\n",
      "3310 488 Ini lg tunggu hasil PCR.\n",
      "3417 381 Nanti invoice PCRnya difoto & disimpen ya buat reimburse (siapa tau diminta invoice fisik)\n",
      "3418 380 Temen kita terkonfirmasi *positif kopit dari hasil PCR*, hasil PCRnya baru keluar jam 11.00 tadi. Jadi, besok kita semua WFH dan harus tes PCR (kenapa besok? Karena terhitung 5 hari setelah kontak erat)\n",
      "3435 363 tengkyuu\n",
      "3436 362 sebelum test, gausah kemana2 dulu yaa.. pake masker trs..\n",
      "3437 361 kecuali kl sblm Rabu kalian ada gejala, maka bisa lgsg test aja..\n",
      "3438 360 cfm. tim ETF, kalian nti cek swab/PCR H+5 dari kontak terakhir ya, jd Rabu tgl 2 Feb ya test-nya..\n",
      "3478 320 Pecel lele 25 ke Ama\n",
      "3784 14 salam sehat!\n",
      "3785 13 Setiap like sangat berarti bagi kami😊 😊 😊\n",
      "3786 12 4. LIKE!\n",
      "3787 11 3. Buka link post: https://www.linkedin.com/posts/activity-6837203217588330496-xORO\n",
      "3788 10 2. Klik “Attend”\n",
      "3789 9 1. Buka page event: https://www.linkedin.com/events/schlumbergerdelfidatasciencehac6762206077720383488/\n",
      "3790 8 Gini joo:\n"
     ]
    },
    {
     "data": {
      "text/plain": [
       "108"
      ]
     },
     "execution_count": 4,
     "metadata": {},
     "output_type": "execute_result"
    }
   ],
   "source": [
    "add=''\n",
    "ct=0\n",
    "length=len(df[0])\n",
    "df[0]=df[0].str.replace('\\u200e','')\n",
    "for i,row in enumerate(reversed(df[0])):\n",
    "    if len(row)>=19 and (row[0] == '[' and row[18] == ']'and row[3]=='/' and row[12]=='.'):\n",
    "        df[0][length-1-i]+=add\n",
    "        add=''\n",
    "    else:\n",
    "        add+='\\n'+row\n",
    "        ct+=1\n",
    "        df[0][length-1-i]='|was addition|'\n",
    "        print(i,length-1-i,row)\n",
    "      \n",
    "ct"
   ]
  },
  {
   "cell_type": "code",
   "execution_count": 5,
   "id": "6bd1c80d",
   "metadata": {
    "scrolled": true
   },
   "outputs": [
    {
     "name": "stdout",
     "output_type": "stream",
     "text": [
      "108 messages was deleted to be merged with the nearest initial message\n"
     ]
    }
   ],
   "source": [
    "print(len(df[df[0]=='|was addition|']),'messages was deleted to be merged with the nearest initial message')\n",
    "df=df[df[0]!='|was addition|']"
   ]
  },
  {
   "cell_type": "markdown",
   "id": "de1cce98",
   "metadata": {},
   "source": [
    "ambil komponen"
   ]
  },
  {
   "cell_type": "code",
   "execution_count": 6,
   "id": "309683d5",
   "metadata": {},
   "outputs": [
    {
     "name": "stderr",
     "output_type": "stream",
     "text": [
      "C:\\Users\\BNI\\AppData\\Local\\Temp\\ipykernel_1048\\4120937632.py:2: SettingWithCopyWarning: \n",
      "A value is trying to be set on a copy of a slice from a DataFrame.\n",
      "Try using .loc[row_indexer,col_indexer] = value instead\n",
      "\n",
      "See the caveats in the documentation: https://pandas.pydata.org/pandas-docs/stable/user_guide/indexing.html#returning-a-view-versus-a-copy\n",
      "  df['sender']=df[0].apply(lambda x: x[x.find(start)+len(start):x.find(end)])\n",
      "C:\\Users\\BNI\\AppData\\Local\\Temp\\ipykernel_1048\\4120937632.py:3: SettingWithCopyWarning: \n",
      "A value is trying to be set on a copy of a slice from a DataFrame.\n",
      "Try using .loc[row_indexer,col_indexer] = value instead\n",
      "\n",
      "See the caveats in the documentation: https://pandas.pydata.org/pandas-docs/stable/user_guide/indexing.html#returning-a-view-versus-a-copy\n",
      "  df['date']=df[0].str[1:19].str.strip().str.strip('[').str.strip(']').str[:8]\n",
      "C:\\Users\\BNI\\AppData\\Local\\Temp\\ipykernel_1048\\4120937632.py:4: SettingWithCopyWarning: \n",
      "A value is trying to be set on a copy of a slice from a DataFrame.\n",
      "Try using .loc[row_indexer,col_indexer] = value instead\n",
      "\n",
      "See the caveats in the documentation: https://pandas.pydata.org/pandas-docs/stable/user_guide/indexing.html#returning-a-view-versus-a-copy\n",
      "  df['date']=pd.to_datetime(df['date'], dayfirst=True)\n",
      "C:\\Users\\BNI\\AppData\\Local\\Temp\\ipykernel_1048\\4120937632.py:5: SettingWithCopyWarning: \n",
      "A value is trying to be set on a copy of a slice from a DataFrame.\n",
      "Try using .loc[row_indexer,col_indexer] = value instead\n",
      "\n",
      "See the caveats in the documentation: https://pandas.pydata.org/pandas-docs/stable/user_guide/indexing.html#returning-a-view-versus-a-copy\n",
      "  df['time']=df[0].str[1:19].str.strip().str.strip('[').str.strip(']').str[9:]\n",
      "C:\\Users\\BNI\\AppData\\Local\\Temp\\ipykernel_1048\\4120937632.py:6: SettingWithCopyWarning: \n",
      "A value is trying to be set on a copy of a slice from a DataFrame.\n",
      "Try using .loc[row_indexer,col_indexer] = value instead\n",
      "\n",
      "See the caveats in the documentation: https://pandas.pydata.org/pandas-docs/stable/user_guide/indexing.html#returning-a-view-versus-a-copy\n",
      "  df['time']=pd.to_datetime(df['time'],format= '%H.%M.%S' ).dt.time\n",
      "C:\\Users\\BNI\\AppData\\Local\\Temp\\ipykernel_1048\\4120937632.py:7: SettingWithCopyWarning: \n",
      "A value is trying to be set on a copy of a slice from a DataFrame.\n",
      "Try using .loc[row_indexer,col_indexer] = value instead\n",
      "\n",
      "See the caveats in the documentation: https://pandas.pydata.org/pandas-docs/stable/user_guide/indexing.html#returning-a-view-versus-a-copy\n",
      "  df['message']=df[0].apply(lambda x: x[x.find(': ')+len(': '):])\n"
     ]
    },
    {
     "data": {
      "text/html": [
       "<div>\n",
       "<style scoped>\n",
       "    .dataframe tbody tr th:only-of-type {\n",
       "        vertical-align: middle;\n",
       "    }\n",
       "\n",
       "    .dataframe tbody tr th {\n",
       "        vertical-align: top;\n",
       "    }\n",
       "\n",
       "    .dataframe thead th {\n",
       "        text-align: right;\n",
       "    }\n",
       "</style>\n",
       "<table border=\"1\" class=\"dataframe\">\n",
       "  <thead>\n",
       "    <tr style=\"text-align: right;\">\n",
       "      <th></th>\n",
       "      <th>0</th>\n",
       "      <th>sender</th>\n",
       "      <th>date</th>\n",
       "      <th>time</th>\n",
       "      <th>message</th>\n",
       "    </tr>\n",
       "  </thead>\n",
       "  <tbody>\n",
       "    <tr>\n",
       "      <th>0</th>\n",
       "      <td>[05/08/21 15.08.36] halodek nightingle: thanks...</td>\n",
       "      <td>halodek nightingle</td>\n",
       "      <td>2021-08-05</td>\n",
       "      <td>15:08:36</td>\n",
       "      <td>thanks win👍</td>\n",
       "    </tr>\n",
       "    <tr>\n",
       "      <th>1</th>\n",
       "      <td>[05/08/21 15.10.05] atwin: yoo</td>\n",
       "      <td>atwin</td>\n",
       "      <td>2021-08-05</td>\n",
       "      <td>15:10:05</td>\n",
       "      <td>yoo</td>\n",
       "    </tr>\n",
       "    <tr>\n",
       "      <th>2</th>\n",
       "      <td>[01/09/21 18.04.04] atwin: iya flo dari homecr...</td>\n",
       "      <td>atwin</td>\n",
       "      <td>2021-09-01</td>\n",
       "      <td>18:04:04</td>\n",
       "      <td>iya flo dari homecredit wkkwkw</td>\n",
       "    </tr>\n",
       "    <tr>\n",
       "      <th>3</th>\n",
       "      <td>[01/09/21 18.10.19] halodek nightingle: Gils 😂</td>\n",
       "      <td>halodek nightingle</td>\n",
       "      <td>2021-09-01</td>\n",
       "      <td>18:10:19</td>\n",
       "      <td>Gils 😂</td>\n",
       "    </tr>\n",
       "    <tr>\n",
       "      <th>4</th>\n",
       "      <td>[12/09/21 17.06.43] atwin: flooo</td>\n",
       "      <td>atwin</td>\n",
       "      <td>2021-09-12</td>\n",
       "      <td>17:06:43</td>\n",
       "      <td>flooo</td>\n",
       "    </tr>\n",
       "    <tr>\n",
       "      <th>...</th>\n",
       "      <td>...</td>\n",
       "      <td>...</td>\n",
       "      <td>...</td>\n",
       "      <td>...</td>\n",
       "      <td>...</td>\n",
       "    </tr>\n",
       "    <tr>\n",
       "      <th>3794</th>\n",
       "      <td>[27/03/23 15.30.57] halodek nightingle: Ini be...</td>\n",
       "      <td>halodek nightingle</td>\n",
       "      <td>2023-03-27</td>\n",
       "      <td>15:30:57</td>\n",
       "      <td>Ini beda mei kan??😅😅</td>\n",
       "    </tr>\n",
       "    <tr>\n",
       "      <th>3795</th>\n",
       "      <td>[28/03/23 06.51.22] atwin: bedaa</td>\n",
       "      <td>atwin</td>\n",
       "      <td>2023-03-28</td>\n",
       "      <td>06:51:22</td>\n",
       "      <td>bedaa</td>\n",
       "    </tr>\n",
       "    <tr>\n",
       "      <th>3796</th>\n",
       "      <td>[28/03/23 06.51.24] atwin: gym nga</td>\n",
       "      <td>atwin</td>\n",
       "      <td>2023-03-28</td>\n",
       "      <td>06:51:24</td>\n",
       "      <td>gym nga</td>\n",
       "    </tr>\n",
       "    <tr>\n",
       "      <th>3797</th>\n",
       "      <td>[28/03/23 07.59.45] halodek nightingle: Baru b...</td>\n",
       "      <td>halodek nightingle</td>\n",
       "      <td>2023-03-28</td>\n",
       "      <td>07:59:45</td>\n",
       "      <td>Baru bgn gue</td>\n",
       "    </tr>\n",
       "    <tr>\n",
       "      <th>3798</th>\n",
       "      <td>[28/03/23 19.55.25] halodek nightingle: win ch...</td>\n",
       "      <td>halodek nightingle</td>\n",
       "      <td>2023-03-28</td>\n",
       "      <td>19:55:25</td>\n",
       "      <td>win chat nanda sana</td>\n",
       "    </tr>\n",
       "  </tbody>\n",
       "</table>\n",
       "<p>3691 rows × 5 columns</p>\n",
       "</div>"
      ],
      "text/plain": [
       "                                                      0              sender  \\\n",
       "0     [05/08/21 15.08.36] halodek nightingle: thanks...  halodek nightingle   \n",
       "1                        [05/08/21 15.10.05] atwin: yoo               atwin   \n",
       "2     [01/09/21 18.04.04] atwin: iya flo dari homecr...               atwin   \n",
       "3        [01/09/21 18.10.19] halodek nightingle: Gils 😂  halodek nightingle   \n",
       "4                      [12/09/21 17.06.43] atwin: flooo               atwin   \n",
       "...                                                 ...                 ...   \n",
       "3794  [27/03/23 15.30.57] halodek nightingle: Ini be...  halodek nightingle   \n",
       "3795                   [28/03/23 06.51.22] atwin: bedaa               atwin   \n",
       "3796                 [28/03/23 06.51.24] atwin: gym nga               atwin   \n",
       "3797  [28/03/23 07.59.45] halodek nightingle: Baru b...  halodek nightingle   \n",
       "3798  [28/03/23 19.55.25] halodek nightingle: win ch...  halodek nightingle   \n",
       "\n",
       "           date      time                         message  \n",
       "0    2021-08-05  15:08:36                     thanks win👍  \n",
       "1    2021-08-05  15:10:05                             yoo  \n",
       "2    2021-09-01  18:04:04  iya flo dari homecredit wkkwkw  \n",
       "3    2021-09-01  18:10:19                          Gils 😂  \n",
       "4    2021-09-12  17:06:43                           flooo  \n",
       "...         ...       ...                             ...  \n",
       "3794 2023-03-27  15:30:57            Ini beda mei kan??😅😅  \n",
       "3795 2023-03-28  06:51:22                           bedaa  \n",
       "3796 2023-03-28  06:51:24                         gym nga  \n",
       "3797 2023-03-28  07:59:45                    Baru bgn gue  \n",
       "3798 2023-03-28  19:55:25             win chat nanda sana  \n",
       "\n",
       "[3691 rows x 5 columns]"
      ]
     },
     "execution_count": 6,
     "metadata": {},
     "output_type": "execute_result"
    }
   ],
   "source": [
    "start,end = '] ',': '\n",
    "df['sender']=df[0].apply(lambda x: x[x.find(start)+len(start):x.find(end)])\n",
    "df['date']=df[0].str[1:19].str.strip().str.strip('[').str.strip(']').str[:8]\n",
    "df['date']=pd.to_datetime(df['date'], dayfirst=True)\n",
    "df['time']=df[0].str[1:19].str.strip().str.strip('[').str.strip(']').str[9:]\n",
    "df['time']=pd.to_datetime(df['time'],format= '%H.%M.%S' ).dt.time\n",
    "df['message']=df[0].apply(lambda x: x[x.find(': ')+len(': '):])\n",
    "df"
   ]
  },
  {
   "cell_type": "markdown",
   "id": "6b386095",
   "metadata": {},
   "source": [
    "cek validasi sender"
   ]
  },
  {
   "cell_type": "code",
   "execution_count": null,
   "id": "2e5f1de9",
   "metadata": {},
   "outputs": [],
   "source": [
    "df[(df['sender']!='kameg') & (df['sender']!='atwin')]"
   ]
  },
  {
   "cell_type": "code",
   "execution_count": null,
   "id": "d34cbdb5",
   "metadata": {},
   "outputs": [],
   "source": []
  },
  {
   "cell_type": "code",
   "execution_count": null,
   "id": "389f6578",
   "metadata": {},
   "outputs": [],
   "source": [
    "df[(df['date']>'2022-10-07') & (df['date']<'2022-10-09')].head(50)"
   ]
  },
  {
   "cell_type": "markdown",
   "id": "ad7e82f3",
   "metadata": {},
   "source": [
    "export main"
   ]
  },
  {
   "cell_type": "code",
   "execution_count": null,
   "id": "fed671c1",
   "metadata": {},
   "outputs": [],
   "source": [
    "# df.to_csv('main.csv',index=False)\n",
    "df.to_excel('main.xlsx',index=False)"
   ]
  },
  {
   "cell_type": "code",
   "execution_count": null,
   "id": "661fe174",
   "metadata": {},
   "outputs": [],
   "source": [
    "df2=df.copy()\n",
    "df['out']=1\n",
    "df2['out']=0\n",
    "time=df.append(df2)[['out','time']].reset_index(drop=1)\n",
    "time.to_excel('time.xlsx',index=False)\n",
    "time"
   ]
  },
  {
   "cell_type": "markdown",
   "id": "ca38d268",
   "metadata": {},
   "source": []
  },
  {
   "cell_type": "code",
   "execution_count": null,
   "id": "a08387a4",
   "metadata": {},
   "outputs": [],
   "source": []
  },
  {
   "cell_type": "markdown",
   "id": "8b6510d5",
   "metadata": {},
   "source": [
    "words freq (wordcloud)"
   ]
  },
  {
   "cell_type": "code",
   "execution_count": null,
   "id": "b5ea2995",
   "metadata": {},
   "outputs": [],
   "source": [
    "for _ in df.message:\n",
    "    "
   ]
  },
  {
   "cell_type": "code",
   "execution_count": null,
   "id": "f61e8e07",
   "metadata": {},
   "outputs": [],
   "source": []
  },
  {
   "cell_type": "code",
   "execution_count": null,
   "id": "80a31b44",
   "metadata": {},
   "outputs": [],
   "source": []
  },
  {
   "cell_type": "code",
   "execution_count": null,
   "id": "fa5b281e",
   "metadata": {},
   "outputs": [],
   "source": []
  },
  {
   "cell_type": "code",
   "execution_count": null,
   "id": "71a75775",
   "metadata": {},
   "outputs": [],
   "source": []
  },
  {
   "cell_type": "code",
   "execution_count": null,
   "id": "16f04bec",
   "metadata": {},
   "outputs": [],
   "source": [
    "df['sender'][10]"
   ]
  },
  {
   "cell_type": "markdown",
   "id": "aa829276",
   "metadata": {},
   "source": [
    "#### reply time"
   ]
  },
  {
   "cell_type": "markdown",
   "id": "517cac1a",
   "metadata": {},
   "source": [
    "curating new dataframe that only contains first message of each reply 'batch' from a sender"
   ]
  },
  {
   "cell_type": "code",
   "execution_count": null,
   "id": "388d1a61",
   "metadata": {},
   "outputs": [],
   "source": [
    "df=df.reset_index(drop=True)\n",
    "\n",
    "df_first_text=pd.DataFrame()\n",
    "# lst_ft=[]\n",
    "for i,row in df.iterrows():\n",
    "    if i > 0:\n",
    "        if row['sender'] == df['sender'][i-1]:\n",
    "            continue\n",
    "#         print(df.iloc[1],row)\n",
    "        df_first_text=df_first_text.append(row)\n",
    "#         df_first_text=pd.concat([df_first_text,df.iloc[i]],axis=0) #outer, axis 0"
   ]
  },
  {
   "cell_type": "markdown",
   "id": "15cfbc31",
   "metadata": {},
   "source": [
    "time difference between replies 'batch'"
   ]
  },
  {
   "cell_type": "code",
   "execution_count": null,
   "id": "f4af36fa",
   "metadata": {},
   "outputs": [],
   "source": [
    "df_first_text['datetime']=pd.to_datetime(df_first_text['date'].astype(str) + ' ' + df_first_text['time'].astype(str))\n",
    "df_first_text['time diff']=df_first_text['datetime'].diff()"
   ]
  },
  {
   "cell_type": "markdown",
   "id": "07037bda",
   "metadata": {},
   "source": [
    "filtering only messages where a conversation is replied within 1 day (reasonable duration for a message to be replied in an engaging conversation)"
   ]
  },
  {
   "cell_type": "code",
   "execution_count": null,
   "id": "ca38d56f",
   "metadata": {},
   "outputs": [],
   "source": [
    "# df_first_text['time diff'].time()#astype(str)\n",
    "df_first_text['reply time (m)']=df_first_text['time diff'].dt.total_seconds()/60\n",
    "print('before:',len(df_first_text))\n",
    "#filter yang dibales lebih dari sehari\n",
    "df_first_text=df_first_text[df_first_text['reply time (m)']<1440]\n",
    "print('after:',len(df_first_text))"
   ]
  },
  {
   "cell_type": "markdown",
   "id": "8898d1bc",
   "metadata": {},
   "source": [
    "output"
   ]
  },
  {
   "cell_type": "code",
   "execution_count": null,
   "id": "2adfe502",
   "metadata": {},
   "outputs": [],
   "source": [
    "df_first_text.to_excel('reply_time.xlsx',index=False)"
   ]
  },
  {
   "cell_type": "code",
   "execution_count": null,
   "id": "35394da1",
   "metadata": {},
   "outputs": [],
   "source": []
  },
  {
   "cell_type": "code",
   "execution_count": null,
   "id": "e14eaed9",
   "metadata": {},
   "outputs": [],
   "source": []
  },
  {
   "cell_type": "code",
   "execution_count": null,
   "id": "6f7232ea",
   "metadata": {},
   "outputs": [],
   "source": []
  },
  {
   "cell_type": "code",
   "execution_count": null,
   "id": "8387f95a",
   "metadata": {},
   "outputs": [],
   "source": []
  },
  {
   "cell_type": "code",
   "execution_count": null,
   "id": "72f4dfc3",
   "metadata": {},
   "outputs": [],
   "source": [
    "cek\n",
    "# start=23\n",
    "# df[df[0].str[start:start+9]=='gabriella']\n",
    "# df[(df[0].str[8:9]=='m') ]\n",
    "# df[(df[0].str[14]=='M') & (df[0].str[0]=='[')]"
   ]
  },
  {
   "cell_type": "code",
   "execution_count": null,
   "id": "426b91e4",
   "metadata": {},
   "outputs": [],
   "source": []
  },
  {
   "cell_type": "code",
   "execution_count": null,
   "id": "35c0a96b",
   "metadata": {},
   "outputs": [],
   "source": []
  }
 ],
 "metadata": {
  "kernelspec": {
   "display_name": "Python 3 (ipykernel)",
   "language": "python",
   "name": "python3"
  },
  "language_info": {
   "codemirror_mode": {
    "name": "ipython",
    "version": 3
   },
   "file_extension": ".py",
   "mimetype": "text/x-python",
   "name": "python",
   "nbconvert_exporter": "python",
   "pygments_lexer": "ipython3",
   "version": "3.9.12"
  }
 },
 "nbformat": 4,
 "nbformat_minor": 5
}
